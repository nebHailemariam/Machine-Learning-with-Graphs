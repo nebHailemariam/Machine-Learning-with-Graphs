{
  "cells": [
    {
      "cell_type": "markdown",
      "metadata": {},
      "source": [
        "# Homework 2: Rating Prediction from Review Text"
      ]
    },
    {
      "cell_type": "code",
      "execution_count": 2,
      "metadata": {
        "id": "qSoJgAr1RArC"
      },
      "outputs": [],
      "source": [
        "YELP_TRAIN_DIR = r\"C:\\Users\\Nebiyou Hailemariam\\Desktop\\development\\Machine-Learning-with-Graphs\\Assignment 2\\data\\yelp_reviews_train.json\"\n",
        "YELP_DEV_DIR = r\"C:\\Users\\Nebiyou Hailemariam\\Desktop\\development\\Machine-Learning-with-Graphs\\Assignment 2\\data\\yelp_reviews_dev.json\"\n",
        "YELP_TEST_DIR = r\"C:\\Users\\Nebiyou Hailemariam\\Desktop\\development\\Machine-Learning-with-Graphs\\Assignment 2\\data\\yelp_reviews_test.json\"\n",
        "STOP_WORD_DIR = r\"C:\\Users\\Nebiyou Hailemariam\\Desktop\\development\\Machine-Learning-with-Graphs\\Assignment 2\\data\\stopword.list\""
      ]
    },
    {
      "cell_type": "code",
      "execution_count": 3,
      "metadata": {
        "id": "76yuwLJFR-KX"
      },
      "outputs": [],
      "source": [
        "import json\n",
        "\n",
        "def load_json_file(file_path):\n",
        "    try:\n",
        "        with open(file_path, 'r') as file:\n",
        "            json_data = [json.loads(line) for line in file]\n",
        "            return json_data\n",
        "    except (FileNotFoundError, json.JSONDecodeError) as e:\n",
        "        print(f\"Error: {e}\")\n",
        "        return None\n",
        "\n",
        "def get_stop_words(file_path):\n",
        "    stop_words = {}\n",
        "    with open(file_path, 'r') as file:\n",
        "        for line_number, word in enumerate(file, start=1):\n",
        "            word = word.strip()  # Remove leading and trailing whitespaces\n",
        "            stop_words[word] = True\n",
        "    return stop_words\n",
        "\n",
        "train_data = load_json_file(YELP_TRAIN_DIR)\n",
        "\n",
        "stop_words = get_stop_words(STOP_WORD_DIR)"
      ]
    },
    {
      "cell_type": "code",
      "execution_count": 4,
      "metadata": {
        "colab": {
          "base_uri": "https://localhost:8080/"
        },
        "id": "JrPFM7_aTWd_",
        "outputId": "f414a20b-66ae-4e32-9c39-6ddb2f44c29a"
      },
      "outputs": [
        {
          "data": {
            "text/plain": [
              "({5: 463084, 2: 112547, 4: 373469, 3: 178215, 1: 128038},\n",
              " [{'stars': 1, 'dist': 0.10199362251095907},\n",
              "  {'stars': 2, 'dist': 0.0896536671358574},\n",
              "  {'stars': 3, 'dist': 0.14196405313883823},\n",
              "  {'stars': 4, 'dist': 0.29750118094273087},\n",
              "  {'stars': 5, 'dist': 0.36888747627161445}])"
            ]
          },
          "execution_count": 4,
          "metadata": {},
          "output_type": "execute_result"
        }
      ],
      "source": [
        "def star_distribution(reviews):\n",
        "    stars = {}\n",
        "\n",
        "    for review in reviews:\n",
        "        stars[review[\"stars\"]] = 1 + stars.get(review[\"stars\"], 0)\n",
        "\n",
        "    total = sum(stars.values())\n",
        "    distribution = [{\"stars\": key, \"dist\": stars[key] / total} for key in sorted(stars.keys())]\n",
        "\n",
        "    return stars, distribution\n",
        "\n",
        "star_distribution(train_data)"
      ]
    },
    {
      "cell_type": "code",
      "execution_count": 5,
      "metadata": {
        "id": "N3vNjj8fmV8P"
      },
      "outputs": [],
      "source": [
        "import string\n",
        "\n",
        "def remove_punctuation(text):\n",
        "    translator = str.maketrans('', '', string.punctuation)\n",
        "    return text.translate(translator)\n",
        "\n",
        "def preprocess_text(text):\n",
        "    sentence = remove_punctuation(text.lower()).split(\" \")\n",
        "    return [word for word in sentence if word != '' and word not in stop_words and all(char.isalpha() for char in word)]"
      ]
    },
    {
      "cell_type": "code",
      "execution_count": 6,
      "metadata": {
        "id": "4uilq9h1wmfg"
      },
      "outputs": [],
      "source": [
        "def build_vocab(reviews):\n",
        "    vocab = {}\n",
        "    for review in reviews:\n",
        "         words = preprocess_text(review['text'])\n",
        "\n",
        "         for word in words:\n",
        "            vocab[word] = 1 + vocab.get(word, 0)\n",
        "\n",
        "    sorted_vocab = sorted(vocab.items(), key=lambda x: x[1], reverse=True)\n",
        "    top_2000_vocab = dict(sorted_vocab[:2000])\n",
        "\n",
        "    return top_2000_vocab"
      ]
    },
    {
      "cell_type": "code",
      "execution_count": 7,
      "metadata": {
        "id": "QL5nV50YxSMk"
      },
      "outputs": [],
      "source": [
        "vocab = build_vocab(train_data)"
      ]
    },
    {
      "cell_type": "code",
      "execution_count": 8,
      "metadata": {
        "id": "63ugJkpFBUan"
      },
      "outputs": [],
      "source": [
        "import numpy as np\n",
        "\n",
        "def preprocess_dataset_ctf(reviews):\n",
        "    vocab_index = list(vocab.keys())\n",
        "    features = np.zeros((len(reviews), 2000), dtype=np.int32)\n",
        "    targets = []\n",
        "\n",
        "    for review_idx in range(len(reviews)):\n",
        "\n",
        "        sentence = preprocess_text(reviews[review_idx]['text'])\n",
        "        targets.append(reviews[review_idx][\"stars\"])\n",
        "\n",
        "        reviews[review_idx] = None\n",
        "        \n",
        "        for word in sentence:\n",
        "            if word in vocab and features[review_idx][vocab_index.index(word)] == 0:\n",
        "                num_of_word_count = sentence.count(word)\n",
        "                features[review_idx][vocab_index.index(word)] = num_of_word_count\n",
        "\n",
        "    return features, targets\n",
        "\n",
        "def preprocess_dataset_ctf_test(reviews):\n",
        "    vocab_index = list(vocab.keys())\n",
        "    features = np.zeros((len(reviews), 2000), dtype=np.int32)\n",
        "\n",
        "    for review_idx in range(len(reviews)):\n",
        "        sentence = preprocess_text(reviews[review_idx]['text'])\n",
        "\n",
        "        reviews[review_idx] = None\n",
        "        \n",
        "        for word in sentence:\n",
        "            if word in vocab and features[review_idx][vocab_index.index(word)] == 0:\n",
        "                num_of_word_count = sentence.count(word)\n",
        "                features[review_idx][vocab_index.index(word)] = num_of_word_count\n",
        "\n",
        "    return features"
      ]
    },
    {
      "cell_type": "code",
      "execution_count": 9,
      "metadata": {
        "id": "zAk5KHu-673I"
      },
      "outputs": [],
      "source": [
        "train_features, train_targets = preprocess_dataset_ctf(train_data)\n",
        "train_features, train_targets = np.array(train_features), np.array(train_targets)\n",
        "train_targets -= 1"
      ]
    },
    {
      "cell_type": "code",
      "execution_count": 10,
      "metadata": {},
      "outputs": [],
      "source": [
        "import torch\n",
        "from torch.utils.data import Dataset\n",
        "\n",
        "class YelpDataset(Dataset):\n",
        "    def __init__(self, features, targets):\n",
        "        self.features = torch.tensor(features, dtype=torch.int)\n",
        "        self.targets = torch.tensor(targets, dtype=torch.long)\n",
        "\n",
        "    def __len__(self):\n",
        "        return len(self.features)\n",
        "\n",
        "    def __getitem__(self, index):\n",
        "        return self.features[index], self.targets[index]\n",
        "\n",
        "train_dataset = YelpDataset(train_features, train_targets)"
      ]
    },
    {
      "cell_type": "code",
      "execution_count": 11,
      "metadata": {},
      "outputs": [],
      "source": [
        "train_features, train_targets = [], []"
      ]
    },
    {
      "cell_type": "code",
      "execution_count": 12,
      "metadata": {},
      "outputs": [],
      "source": [
        "import torch\n",
        "from torch.utils.data import Dataset\n",
        "\n",
        "class YelpTestDataset(Dataset):\n",
        "    def __init__(self, features):\n",
        "        self.features = torch.tensor(features, dtype=torch.int)\n",
        "\n",
        "    def __len__(self):\n",
        "        return len(self.features)\n",
        "\n",
        "    def __getitem__(self, index):\n",
        "        return self.features[index]"
      ]
    },
    {
      "cell_type": "markdown",
      "metadata": {
        "id": "_SMevZOr42O-"
      },
      "source": [
        "## CNN"
      ]
    },
    {
      "cell_type": "code",
      "execution_count": 30,
      "metadata": {},
      "outputs": [],
      "source": [
        "from torch import nn\n",
        "\n",
        "class SentimentCNN(nn.Module):\n",
        "    def __init__(self, vocab_size, embed_dim, context_size):\n",
        "        super(SentimentCNN, self).__init__()\n",
        "\n",
        "        self.embedding = nn.Embedding(vocab_size, embed_dim)\n",
        "        self.conv_1d = torch.nn.Conv1d(1, out_channels=50, kernel_size=50, stride=embed_dim, padding=\"valid\")\n",
        "        self.max_pooling_1d = torch.nn.MaxPool1d(100, stride=embed_dim)\n",
        "        self.relu_1 = nn.ReLU()\n",
        "        self.init_weights()\n",
        "\n",
        "        self.fc_1 = nn.Linear(1000, 5)\n",
        "        self.softmax = nn.Softmax(dim=1)\n",
        "\n",
        "    def init_weights(self):\n",
        "        initrange = 0.5\n",
        "        self.embedding.weight.data.uniform_(-initrange, initrange)\n",
        "\n",
        "    def forward(self, sentence):\n",
        "        out = self.embedding(sentence)\n",
        "        out = out.unsqueeze(1)\n",
        "        out = out.flatten(2,3)\n",
        "        out = self.conv_1d(out)\n",
        "        out = torch.flatten(out, start_dim=1)\n",
        "        out = self.max_pooling_1d(out)\n",
        "        out = self.relu_1(out)\n",
        "        out = self.fc_1(out)\n",
        "        out = self.softmax(out)\n",
        "\n",
        "        return out"
      ]
    },
    {
      "cell_type": "code",
      "execution_count": 35,
      "metadata": {},
      "outputs": [],
      "source": [
        "from torch.optim import lr_scheduler\n",
        "import torch.optim as optim\n",
        "\n",
        "device = torch.device(\"cuda\" if torch.cuda.is_available() else \"cpu\")\n",
        "\n",
        "model = SentimentCNN(len(vocab), embed_dim=100, context_size=100).to(device)\n",
        "criterion = nn.CrossEntropyLoss()\n",
        "optimizer = optim.Adam(model.parameters(), lr=0.01)\n",
        "scheduler = lr_scheduler.StepLR(optimizer, step_size=5, gamma=0.9)"
      ]
    },
    {
      "cell_type": "code",
      "execution_count": 36,
      "metadata": {},
      "outputs": [],
      "source": [
        "from torch.utils.data import DataLoader\n",
        "train_loader = DataLoader(train_dataset, batch_size=512, shuffle=True)"
      ]
    },
    {
      "cell_type": "code",
      "execution_count": 37,
      "metadata": {},
      "outputs": [],
      "source": [
        "def train_model(model, train_loader, optimizer, criterion, device):\n",
        "    model.train()\n",
        "    total_loss = 0\n",
        "    correct_train = 0\n",
        "    total_train = 0\n",
        "\n",
        "    for batch in train_loader:\n",
        "        inputs, labels = batch[0].to(device), batch[1].to(device)\n",
        "        optimizer.zero_grad()\n",
        "\n",
        "        outputs = model(inputs)\n",
        "        loss = criterion(outputs, labels)\n",
        "        loss.backward()\n",
        "        optimizer.step()\n",
        "\n",
        "        total_loss += loss.item()\n",
        "\n",
        "        # Calculate training accuracy\n",
        "        _, predicted = torch.max(outputs.data, 1)\n",
        "        total_train += labels.size(0)\n",
        "        correct_train += (predicted == labels).sum().item()\n",
        "\n",
        "    average_loss = total_loss / len(train_loader)\n",
        "    accuracy_train = correct_train / total_train\n",
        "    return average_loss, accuracy_train"
      ]
    },
    {
      "cell_type": "code",
      "execution_count": 38,
      "metadata": {},
      "outputs": [],
      "source": [
        "def get_hard_predictions(model, test_loader, device):\n",
        "    model.eval()\n",
        "    all_predictions = []\n",
        "\n",
        "    with torch.no_grad():\n",
        "        for batch in test_loader:\n",
        "            inputs = batch.to(device)\n",
        "            outputs = model(inputs)\n",
        "            \n",
        "            _, predicted = torch.max(outputs.data, 1)\n",
        "            all_predictions.extend(predicted.cpu().numpy())\n",
        "\n",
        "    return all_predictions\n",
        "\n",
        "def get_soft_predictions(model, test_loader, device):\n",
        "    model.eval()\n",
        "    all_predictions = []\n",
        "\n",
        "    with torch.no_grad():\n",
        "        for batch in test_loader:\n",
        "            inputs = batch.to(device)\n",
        "            outputs = model(inputs)\n",
        "            outputs.data = outputs.data * np.array([[1,2,3,4,5]])\n",
        "            \n",
        "            all_predictions.extend(torch.sum(outputs.data, 1).cpu().numpy())\n",
        "\n",
        "    return all_predictions"
      ]
    },
    {
      "cell_type": "code",
      "execution_count": 39,
      "metadata": {},
      "outputs": [
        {
          "name": "stdout",
          "output_type": "stream",
          "text": [
            "Epoch 1/100, Train Loss: 1.4954, Train Accuracy: 37.83%\n",
            "Epoch 2/100, Train Loss: 1.4944, Train Accuracy: 37.91%\n",
            "Epoch 3/100, Train Loss: 1.4947, Train Accuracy: 37.81%\n",
            "Epoch 4/100, Train Loss: 1.4945, Train Accuracy: 37.82%\n",
            "Epoch 5/100, Train Loss: 1.4945, Train Accuracy: 37.81%\n"
          ]
        },
        {
          "ename": "KeyboardInterrupt",
          "evalue": "",
          "output_type": "error",
          "traceback": [
            "\u001b[1;31m---------------------------------------------------------------------------\u001b[0m",
            "\u001b[1;31mKeyboardInterrupt\u001b[0m                         Traceback (most recent call last)",
            "Cell \u001b[1;32mIn[39], line 6\u001b[0m\n\u001b[0;32m      3\u001b[0m train_accuracies \u001b[38;5;241m=\u001b[39m []\n\u001b[0;32m      5\u001b[0m \u001b[38;5;28;01mfor\u001b[39;00m epoch \u001b[38;5;129;01min\u001b[39;00m \u001b[38;5;28mrange\u001b[39m(epochs):\n\u001b[1;32m----> 6\u001b[0m     train_loss, train_accuracy \u001b[38;5;241m=\u001b[39m \u001b[43mtrain_model\u001b[49m\u001b[43m(\u001b[49m\u001b[43mmodel\u001b[49m\u001b[43m,\u001b[49m\u001b[43m \u001b[49m\u001b[43mtrain_loader\u001b[49m\u001b[43m,\u001b[49m\u001b[43m \u001b[49m\u001b[43moptimizer\u001b[49m\u001b[43m,\u001b[49m\u001b[43m \u001b[49m\u001b[43mcriterion\u001b[49m\u001b[43m,\u001b[49m\u001b[43m \u001b[49m\u001b[43mdevice\u001b[49m\u001b[43m)\u001b[49m\n\u001b[0;32m      8\u001b[0m     train_losses\u001b[38;5;241m.\u001b[39mappend(train_loss)\n\u001b[0;32m      9\u001b[0m     train_accuracies\u001b[38;5;241m.\u001b[39mappend(train_accuracy)\n",
            "Cell \u001b[1;32mIn[37], line 13\u001b[0m, in \u001b[0;36mtrain_model\u001b[1;34m(model, train_loader, optimizer, criterion, device)\u001b[0m\n\u001b[0;32m     11\u001b[0m outputs \u001b[38;5;241m=\u001b[39m model(inputs)\n\u001b[0;32m     12\u001b[0m loss \u001b[38;5;241m=\u001b[39m criterion(outputs, labels)\n\u001b[1;32m---> 13\u001b[0m \u001b[43mloss\u001b[49m\u001b[38;5;241;43m.\u001b[39;49m\u001b[43mbackward\u001b[49m\u001b[43m(\u001b[49m\u001b[43m)\u001b[49m\n\u001b[0;32m     14\u001b[0m optimizer\u001b[38;5;241m.\u001b[39mstep()\n\u001b[0;32m     16\u001b[0m total_loss \u001b[38;5;241m+\u001b[39m\u001b[38;5;241m=\u001b[39m loss\u001b[38;5;241m.\u001b[39mitem()\n",
            "File \u001b[1;32mc:\\Users\\Nebiyou Hailemariam\\Desktop\\development\\Machine-Learning-with-Graphs\\venv\\lib\\site-packages\\torch\\_tensor.py:522\u001b[0m, in \u001b[0;36mTensor.backward\u001b[1;34m(self, gradient, retain_graph, create_graph, inputs)\u001b[0m\n\u001b[0;32m    512\u001b[0m \u001b[38;5;28;01mif\u001b[39;00m has_torch_function_unary(\u001b[38;5;28mself\u001b[39m):\n\u001b[0;32m    513\u001b[0m     \u001b[38;5;28;01mreturn\u001b[39;00m handle_torch_function(\n\u001b[0;32m    514\u001b[0m         Tensor\u001b[38;5;241m.\u001b[39mbackward,\n\u001b[0;32m    515\u001b[0m         (\u001b[38;5;28mself\u001b[39m,),\n\u001b[1;32m   (...)\u001b[0m\n\u001b[0;32m    520\u001b[0m         inputs\u001b[38;5;241m=\u001b[39minputs,\n\u001b[0;32m    521\u001b[0m     )\n\u001b[1;32m--> 522\u001b[0m \u001b[43mtorch\u001b[49m\u001b[38;5;241;43m.\u001b[39;49m\u001b[43mautograd\u001b[49m\u001b[38;5;241;43m.\u001b[39;49m\u001b[43mbackward\u001b[49m\u001b[43m(\u001b[49m\n\u001b[0;32m    523\u001b[0m \u001b[43m    \u001b[49m\u001b[38;5;28;43mself\u001b[39;49m\u001b[43m,\u001b[49m\u001b[43m \u001b[49m\u001b[43mgradient\u001b[49m\u001b[43m,\u001b[49m\u001b[43m \u001b[49m\u001b[43mretain_graph\u001b[49m\u001b[43m,\u001b[49m\u001b[43m \u001b[49m\u001b[43mcreate_graph\u001b[49m\u001b[43m,\u001b[49m\u001b[43m \u001b[49m\u001b[43minputs\u001b[49m\u001b[38;5;241;43m=\u001b[39;49m\u001b[43minputs\u001b[49m\n\u001b[0;32m    524\u001b[0m \u001b[43m\u001b[49m\u001b[43m)\u001b[49m\n",
            "File \u001b[1;32mc:\\Users\\Nebiyou Hailemariam\\Desktop\\development\\Machine-Learning-with-Graphs\\venv\\lib\\site-packages\\torch\\autograd\\__init__.py:266\u001b[0m, in \u001b[0;36mbackward\u001b[1;34m(tensors, grad_tensors, retain_graph, create_graph, grad_variables, inputs)\u001b[0m\n\u001b[0;32m    261\u001b[0m     retain_graph \u001b[38;5;241m=\u001b[39m create_graph\n\u001b[0;32m    263\u001b[0m \u001b[38;5;66;03m# The reason we repeat the same comment below is that\u001b[39;00m\n\u001b[0;32m    264\u001b[0m \u001b[38;5;66;03m# some Python versions print out the first line of a multi-line function\u001b[39;00m\n\u001b[0;32m    265\u001b[0m \u001b[38;5;66;03m# calls in the traceback and some print out the last line\u001b[39;00m\n\u001b[1;32m--> 266\u001b[0m \u001b[43mVariable\u001b[49m\u001b[38;5;241;43m.\u001b[39;49m\u001b[43m_execution_engine\u001b[49m\u001b[38;5;241;43m.\u001b[39;49m\u001b[43mrun_backward\u001b[49m\u001b[43m(\u001b[49m\u001b[43m  \u001b[49m\u001b[38;5;66;43;03m# Calls into the C++ engine to run the backward pass\u001b[39;49;00m\n\u001b[0;32m    267\u001b[0m \u001b[43m    \u001b[49m\u001b[43mtensors\u001b[49m\u001b[43m,\u001b[49m\n\u001b[0;32m    268\u001b[0m \u001b[43m    \u001b[49m\u001b[43mgrad_tensors_\u001b[49m\u001b[43m,\u001b[49m\n\u001b[0;32m    269\u001b[0m \u001b[43m    \u001b[49m\u001b[43mretain_graph\u001b[49m\u001b[43m,\u001b[49m\n\u001b[0;32m    270\u001b[0m \u001b[43m    \u001b[49m\u001b[43mcreate_graph\u001b[49m\u001b[43m,\u001b[49m\n\u001b[0;32m    271\u001b[0m \u001b[43m    \u001b[49m\u001b[43minputs\u001b[49m\u001b[43m,\u001b[49m\n\u001b[0;32m    272\u001b[0m \u001b[43m    \u001b[49m\u001b[43mallow_unreachable\u001b[49m\u001b[38;5;241;43m=\u001b[39;49m\u001b[38;5;28;43;01mTrue\u001b[39;49;00m\u001b[43m,\u001b[49m\n\u001b[0;32m    273\u001b[0m \u001b[43m    \u001b[49m\u001b[43maccumulate_grad\u001b[49m\u001b[38;5;241;43m=\u001b[39;49m\u001b[38;5;28;43;01mTrue\u001b[39;49;00m\u001b[43m,\u001b[49m\n\u001b[0;32m    274\u001b[0m \u001b[43m\u001b[49m\u001b[43m)\u001b[49m\n",
            "\u001b[1;31mKeyboardInterrupt\u001b[0m: "
          ]
        }
      ],
      "source": [
        "epochs = 100\n",
        "train_losses = []\n",
        "train_accuracies = []\n",
        "\n",
        "for epoch in range(epochs):\n",
        "    train_loss, train_accuracy = train_model(model, train_loader, optimizer, criterion, device)\n",
        "\n",
        "    train_losses.append(train_loss)\n",
        "    train_accuracies.append(train_accuracy)\n",
        "    # Update the scheduler\n",
        "    scheduler.step()\n",
        "\n",
        "    print(f'Epoch {epoch + 1}/{epochs}, Train Loss: {train_loss:.4f}, '\n",
        "          f'Train Accuracy: {train_accuracy * 100:.2f}%')"
      ]
    },
    {
      "cell_type": "code",
      "execution_count": 19,
      "metadata": {},
      "outputs": [],
      "source": [
        "dev_data = load_json_file(YELP_DEV_DIR)\n",
        "dev_features = preprocess_dataset_ctf_test(dev_data)\n",
        "dev_features = np.array(dev_features)"
      ]
    },
    {
      "cell_type": "code",
      "execution_count": 20,
      "metadata": {},
      "outputs": [],
      "source": [
        "dev_dataset = YelpTestDataset(dev_features)\n",
        "dev_loader = DataLoader(dev_dataset, batch_size=32, shuffle=True)"
      ]
    },
    {
      "cell_type": "code",
      "execution_count": 21,
      "metadata": {},
      "outputs": [],
      "source": [
        "def merge_and_save_vectors(vector1, vector2, output_file_path):\n",
        "    merged_vector = np.column_stack((vector1, vector2))\n",
        "    np.savetxt(output_file_path, merged_vector, fmt=['%d', '%.3f'], delimiter=' ')"
      ]
    },
    {
      "cell_type": "code",
      "execution_count": 40,
      "metadata": {},
      "outputs": [],
      "source": [
        "merge_and_save_vectors(get_hard_predictions(model, dev_loader, device), get_soft_predictions(model, dev_loader, device), \"./dev-predictions.txt\")"
      ]
    },
    {
      "cell_type": "code",
      "execution_count": 23,
      "metadata": {},
      "outputs": [],
      "source": [
        "test_data = load_json_file(YELP_TEST_DIR)\n",
        "test_features = preprocess_dataset_ctf_test(test_data)\n",
        "test_features = np.array(test_features)"
      ]
    },
    {
      "cell_type": "code",
      "execution_count": 24,
      "metadata": {},
      "outputs": [],
      "source": [
        "test_dataset = YelpTestDataset(test_features)\n",
        "test_loader = DataLoader(dev_dataset, batch_size=32, shuffle=True)"
      ]
    },
    {
      "cell_type": "code",
      "execution_count": 41,
      "metadata": {},
      "outputs": [],
      "source": [
        "merge_and_save_vectors(get_hard_predictions(model, test_loader, device), get_soft_predictions(model, test_loader, device), \"./dev-predictions.txt\")"
      ]
    },
    {
      "cell_type": "code",
      "execution_count": null,
      "metadata": {},
      "outputs": [],
      "source": []
    }
  ],
  "metadata": {
    "colab": {
      "gpuType": "T4",
      "provenance": []
    },
    "kernelspec": {
      "display_name": "Python 3",
      "name": "python3"
    },
    "language_info": {
      "codemirror_mode": {
        "name": "ipython",
        "version": 3
      },
      "file_extension": ".py",
      "mimetype": "text/x-python",
      "name": "python",
      "nbconvert_exporter": "python",
      "pygments_lexer": "ipython3",
      "version": "3.8.10"
    }
  },
  "nbformat": 4,
  "nbformat_minor": 0
}
