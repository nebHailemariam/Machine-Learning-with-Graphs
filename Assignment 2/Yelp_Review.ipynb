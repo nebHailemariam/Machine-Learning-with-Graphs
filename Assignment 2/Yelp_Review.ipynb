{
  "cells": [
    {
      "cell_type": "markdown",
      "metadata": {},
      "source": [
        "# Homework 2: Rating Prediction from Review Text"
      ]
    },
    {
      "cell_type": "code",
      "execution_count": 1,
      "metadata": {
        "id": "qSoJgAr1RArC"
      },
      "outputs": [],
      "source": [
        "YELP_TRAIN_DIR = r\"C:\\Users\\Nebiyou Hailemariam\\Desktop\\development\\Machine-Learning-with-Graphs\\Assignment 2\\data\\yelp_reviews_train.json\"\n",
        "YELP_DEV_DIR = r\"C:\\Users\\Nebiyou Hailemariam\\Desktop\\development\\Machine-Learning-with-Graphs\\Assignment 2\\data\\yelp_reviews_dev.json\"\n",
        "YELP_TEST_DIR = r\"C:\\Users\\Nebiyou Hailemariam\\Desktop\\development\\Machine-Learning-with-Graphs\\Assignment 2\\data\\yelp_reviews_test.json\"\n",
        "STOP_WORD_DIR = r\"C:\\Users\\Nebiyou Hailemariam\\Desktop\\development\\Machine-Learning-with-Graphs\\Assignment 2\\data\\stopword.list\""
      ]
    },
    {
      "cell_type": "code",
      "execution_count": 2,
      "metadata": {
        "id": "76yuwLJFR-KX"
      },
      "outputs": [],
      "source": [
        "import json\n",
        "\n",
        "def load_json_file(file_path):\n",
        "    try:\n",
        "        with open(file_path, 'r') as file:\n",
        "            json_data = [json.loads(line) for line in file]\n",
        "            return json_data\n",
        "    except (FileNotFoundError, json.JSONDecodeError) as e:\n",
        "        print(f\"Error: {e}\")\n",
        "        return None\n",
        "\n",
        "def get_stop_words(file_path):\n",
        "    stop_words = {}\n",
        "    with open(file_path, 'r') as file:\n",
        "        for line_number, word in enumerate(file, start=1):\n",
        "            word = word.strip()  # Remove leading and trailing whitespaces\n",
        "            stop_words[word] = True\n",
        "    return stop_words\n",
        "\n",
        "train_data = load_json_file(YELP_TRAIN_DIR)\n",
        "\n",
        "stop_words = get_stop_words(STOP_WORD_DIR)"
      ]
    },
    {
      "cell_type": "code",
      "execution_count": 3,
      "metadata": {
        "colab": {
          "base_uri": "https://localhost:8080/"
        },
        "id": "JrPFM7_aTWd_",
        "outputId": "f414a20b-66ae-4e32-9c39-6ddb2f44c29a"
      },
      "outputs": [
        {
          "data": {
            "text/plain": [
              "({5: 463084, 2: 112547, 4: 373469, 3: 178215, 1: 128038},\n",
              " [{'stars': 1, 'dist': 0.10199362251095907},\n",
              "  {'stars': 2, 'dist': 0.0896536671358574},\n",
              "  {'stars': 3, 'dist': 0.14196405313883823},\n",
              "  {'stars': 4, 'dist': 0.29750118094273087},\n",
              "  {'stars': 5, 'dist': 0.36888747627161445}])"
            ]
          },
          "execution_count": 3,
          "metadata": {},
          "output_type": "execute_result"
        }
      ],
      "source": [
        "def star_distribution(reviews):\n",
        "    stars = {}\n",
        "\n",
        "    for review in reviews:\n",
        "        stars[review[\"stars\"]] = 1 + stars.get(review[\"stars\"], 0)\n",
        "\n",
        "    total = sum(stars.values())\n",
        "    distribution = [{\"stars\": key, \"dist\": stars[key] / total} for key in sorted(stars.keys())]\n",
        "\n",
        "    return stars, distribution\n",
        "\n",
        "star_distribution(train_data)"
      ]
    },
    {
      "cell_type": "code",
      "execution_count": 4,
      "metadata": {
        "id": "N3vNjj8fmV8P"
      },
      "outputs": [],
      "source": [
        "import string\n",
        "\n",
        "def remove_punctuation(text):\n",
        "    translator = str.maketrans('', '', string.punctuation)\n",
        "    return text.translate(translator)\n",
        "\n",
        "def preprocess_text(text):\n",
        "    sentence = remove_punctuation(text.lower()).split(\" \")\n",
        "    return [word for word in sentence if word != '' and word not in stop_words and all(char.isalpha() for char in word)]"
      ]
    },
    {
      "cell_type": "code",
      "execution_count": 5,
      "metadata": {
        "id": "4uilq9h1wmfg"
      },
      "outputs": [],
      "source": [
        "def build_vocab(reviews):\n",
        "    vocab = {}\n",
        "    for review in reviews:\n",
        "         words = preprocess_text(review['text'])\n",
        "\n",
        "         for word in words:\n",
        "            vocab[word] = 1 + vocab.get(word, 0)\n",
        "\n",
        "    sorted_vocab = sorted(vocab.items(), key=lambda x: x[1], reverse=True)\n",
        "    top_2000_vocab = dict(sorted_vocab[:2000])\n",
        "\n",
        "    return top_2000_vocab"
      ]
    },
    {
      "cell_type": "code",
      "execution_count": 6,
      "metadata": {
        "id": "QL5nV50YxSMk"
      },
      "outputs": [],
      "source": [
        "vocab = build_vocab(train_data)"
      ]
    },
    {
      "cell_type": "code",
      "execution_count": 33,
      "metadata": {
        "id": "63ugJkpFBUan"
      },
      "outputs": [],
      "source": [
        "import numpy as np\n",
        "\n",
        "def preprocess_dataset_ctf(reviews):\n",
        "    vocab_index = list(vocab.keys())\n",
        "    features = np.zeros((len(reviews), 2000), dtype=np.int32)\n",
        "    targets = []\n",
        "\n",
        "    for review_idx in range(len(reviews)):\n",
        "\n",
        "        sentence = preprocess_text(reviews[review_idx]['text'])\n",
        "        targets.append(reviews[review_idx][\"stars\"])\n",
        "\n",
        "        reviews[review_idx] = None\n",
        "        \n",
        "        for word in sentence:\n",
        "            if word in vocab and features[review_idx][vocab_index.index(word)] == 0:\n",
        "                num_of_word_count = sentence.count(word)\n",
        "                features[review_idx][vocab_index.index(word)] = num_of_word_count\n",
        "\n",
        "    return features, targets\n",
        "\n",
        "def preprocess_dataset_ctf_test(reviews):\n",
        "    vocab_index = list(vocab.keys())\n",
        "    features = np.zeros((len(reviews), 2000), dtype=np.int32)\n",
        "\n",
        "    for review_idx in range(len(reviews)):\n",
        "        sentence = preprocess_text(reviews[review_idx]['text'])\n",
        "\n",
        "        reviews[review_idx] = None\n",
        "        \n",
        "        for word in sentence:\n",
        "            if word in vocab and features[review_idx][vocab_index.index(word)] == 0:\n",
        "                num_of_word_count = sentence.count(word)\n",
        "                features[review_idx][vocab_index.index(word)] = num_of_word_count\n",
        "\n",
        "    return features"
      ]
    },
    {
      "cell_type": "code",
      "execution_count": 8,
      "metadata": {
        "id": "zAk5KHu-673I"
      },
      "outputs": [],
      "source": [
        "train_features, train_targets = preprocess_dataset_ctf(train_data)\n",
        "train_features, train_targets = np.array(train_features), np.array(train_targets)"
      ]
    },
    {
      "cell_type": "code",
      "execution_count": 9,
      "metadata": {},
      "outputs": [],
      "source": [
        "train_features, train_targets = np.array(train_features), np.array(train_targets)"
      ]
    },
    {
      "cell_type": "code",
      "execution_count": 17,
      "metadata": {},
      "outputs": [],
      "source": [
        "from sklearn.model_selection import train_test_split\n",
        "X_train, X_test, y_train, y_test = train_test_split(train_features, train_targets, test_size=0.05, random_state=42)"
      ]
    },
    {
      "cell_type": "markdown",
      "metadata": {
        "id": "_SMevZOr42O-"
      },
      "source": [
        "## SVM"
      ]
    },
    {
      "cell_type": "code",
      "execution_count": 15,
      "metadata": {},
      "outputs": [
        {
          "name": "stderr",
          "output_type": "stream",
          "text": [
            "c:\\Users\\Nebiyou Hailemariam\\Desktop\\development\\Machine-Learning-with-Graphs\\venv\\lib\\site-packages\\sklearn\\svm\\_classes.py:32: FutureWarning: The default value of `dual` will change from `True` to `'auto'` in 1.5. Set the value of `dual` explicitly to suppress the warning.\n",
            "  warnings.warn(\n",
            "c:\\Users\\Nebiyou Hailemariam\\Desktop\\development\\Machine-Learning-with-Graphs\\venv\\lib\\site-packages\\sklearn\\svm\\_base.py:1250: ConvergenceWarning: Liblinear failed to converge, increase the number of iterations.\n",
            "  warnings.warn(\n"
          ]
        },
        {
          "data": {
            "text/html": [
              "<style>#sk-container-id-1 {color: black;}#sk-container-id-1 pre{padding: 0;}#sk-container-id-1 div.sk-toggleable {background-color: white;}#sk-container-id-1 label.sk-toggleable__label {cursor: pointer;display: block;width: 100%;margin-bottom: 0;padding: 0.3em;box-sizing: border-box;text-align: center;}#sk-container-id-1 label.sk-toggleable__label-arrow:before {content: \"▸\";float: left;margin-right: 0.25em;color: #696969;}#sk-container-id-1 label.sk-toggleable__label-arrow:hover:before {color: black;}#sk-container-id-1 div.sk-estimator:hover label.sk-toggleable__label-arrow:before {color: black;}#sk-container-id-1 div.sk-toggleable__content {max-height: 0;max-width: 0;overflow: hidden;text-align: left;background-color: #f0f8ff;}#sk-container-id-1 div.sk-toggleable__content pre {margin: 0.2em;color: black;border-radius: 0.25em;background-color: #f0f8ff;}#sk-container-id-1 input.sk-toggleable__control:checked~div.sk-toggleable__content {max-height: 200px;max-width: 100%;overflow: auto;}#sk-container-id-1 input.sk-toggleable__control:checked~label.sk-toggleable__label-arrow:before {content: \"▾\";}#sk-container-id-1 div.sk-estimator input.sk-toggleable__control:checked~label.sk-toggleable__label {background-color: #d4ebff;}#sk-container-id-1 div.sk-label input.sk-toggleable__control:checked~label.sk-toggleable__label {background-color: #d4ebff;}#sk-container-id-1 input.sk-hidden--visually {border: 0;clip: rect(1px 1px 1px 1px);clip: rect(1px, 1px, 1px, 1px);height: 1px;margin: -1px;overflow: hidden;padding: 0;position: absolute;width: 1px;}#sk-container-id-1 div.sk-estimator {font-family: monospace;background-color: #f0f8ff;border: 1px dotted black;border-radius: 0.25em;box-sizing: border-box;margin-bottom: 0.5em;}#sk-container-id-1 div.sk-estimator:hover {background-color: #d4ebff;}#sk-container-id-1 div.sk-parallel-item::after {content: \"\";width: 100%;border-bottom: 1px solid gray;flex-grow: 1;}#sk-container-id-1 div.sk-label:hover label.sk-toggleable__label {background-color: #d4ebff;}#sk-container-id-1 div.sk-serial::before {content: \"\";position: absolute;border-left: 1px solid gray;box-sizing: border-box;top: 0;bottom: 0;left: 50%;z-index: 0;}#sk-container-id-1 div.sk-serial {display: flex;flex-direction: column;align-items: center;background-color: white;padding-right: 0.2em;padding-left: 0.2em;position: relative;}#sk-container-id-1 div.sk-item {position: relative;z-index: 1;}#sk-container-id-1 div.sk-parallel {display: flex;align-items: stretch;justify-content: center;background-color: white;position: relative;}#sk-container-id-1 div.sk-item::before, #sk-container-id-1 div.sk-parallel-item::before {content: \"\";position: absolute;border-left: 1px solid gray;box-sizing: border-box;top: 0;bottom: 0;left: 50%;z-index: -1;}#sk-container-id-1 div.sk-parallel-item {display: flex;flex-direction: column;z-index: 1;position: relative;background-color: white;}#sk-container-id-1 div.sk-parallel-item:first-child::after {align-self: flex-end;width: 50%;}#sk-container-id-1 div.sk-parallel-item:last-child::after {align-self: flex-start;width: 50%;}#sk-container-id-1 div.sk-parallel-item:only-child::after {width: 0;}#sk-container-id-1 div.sk-dashed-wrapped {border: 1px dashed gray;margin: 0 0.4em 0.5em 0.4em;box-sizing: border-box;padding-bottom: 0.4em;background-color: white;}#sk-container-id-1 div.sk-label label {font-family: monospace;font-weight: bold;display: inline-block;line-height: 1.2em;}#sk-container-id-1 div.sk-label-container {text-align: center;}#sk-container-id-1 div.sk-container {/* jupyter's `normalize.less` sets `[hidden] { display: none; }` but bootstrap.min.css set `[hidden] { display: none !important; }` so we also need the `!important` here to be able to override the default hidden behavior on the sphinx rendered scikit-learn.org. See: https://github.com/scikit-learn/scikit-learn/issues/21755 */display: inline-block !important;position: relative;}#sk-container-id-1 div.sk-text-repr-fallback {display: none;}</style><div id=\"sk-container-id-1\" class=\"sk-top-container\"><div class=\"sk-text-repr-fallback\"><pre>LinearSVC(random_state=0)</pre><b>In a Jupyter environment, please rerun this cell to show the HTML representation or trust the notebook. <br />On GitHub, the HTML representation is unable to render, please try loading this page with nbviewer.org.</b></div><div class=\"sk-container\" hidden><div class=\"sk-item\"><div class=\"sk-estimator sk-toggleable\"><input class=\"sk-toggleable__control sk-hidden--visually\" id=\"sk-estimator-id-1\" type=\"checkbox\" checked><label for=\"sk-estimator-id-1\" class=\"sk-toggleable__label sk-toggleable__label-arrow\">LinearSVC</label><div class=\"sk-toggleable__content\"><pre>LinearSVC(random_state=0)</pre></div></div></div></div></div>"
            ],
            "text/plain": [
              "LinearSVC(random_state=0)"
            ]
          },
          "execution_count": 15,
          "metadata": {},
          "output_type": "execute_result"
        }
      ],
      "source": [
        "from sklearn.model_selection import train_test_split\n",
        "from sklearn import svm\n",
        "\n",
        "clf = svm.LinearSVC(penalty='l2', loss='squared_hinge', random_state=0)\n",
        "\n",
        "clf.fit(X_train, y_train)"
      ]
    },
    {
      "cell_type": "code",
      "execution_count": 16,
      "metadata": {},
      "outputs": [
        {
          "name": "stdout",
          "output_type": "stream",
          "text": [
            "Accuracy: 0.574878919194494\n"
          ]
        }
      ],
      "source": [
        "from sklearn.metrics import accuracy_score\n",
        "\n",
        "y_pred = clf.predict(X_test)\n",
        "accuracy = accuracy_score(y_test, y_pred)\n",
        "\n",
        "print(\"Accuracy:\", accuracy)"
      ]
    },
    {
      "cell_type": "markdown",
      "metadata": {},
      "source": [
        "# Logistic Regression"
      ]
    },
    {
      "cell_type": "code",
      "execution_count": 102,
      "metadata": {},
      "outputs": [],
      "source": [
        "import numpy as np\n",
        "from sklearn import datasets\n",
        "from sklearn.model_selection import train_test_split\n",
        "from sklearn.preprocessing import StandardScaler\n",
        "from sklearn.model_selection import train_test_split\n",
        "\n",
        "def softmax(pred):\n",
        "    return np.exp(pred) / np.sum(np.exp(pred), axis=0, keepdims=True)\n",
        "\n",
        "class LogisticRegression:\n",
        "    def __init__(self, dim, classes, lr, lambda_reg=1):\n",
        "        self.lr = lr\n",
        "        self.lambda_reg = lambda_reg\n",
        "        self.classes = classes\n",
        "        self.W = np.zeros((dim, self.classes))\n",
        "        self.X = None\n",
        "\n",
        "    def forward(self, X):\n",
        "        self.X = X\n",
        "        return softmax(np.matmul(self.W.T, X))\n",
        "\n",
        "    def backward(self, output, label):\n",
        "        dl_dw = np.matmul(label - output, self.X.T).T - self.lambda_reg * self.W\n",
        "        self.W = self.W + self.lr * (dl_dw / self.X.shape[1])"
      ]
    },
    {
      "cell_type": "code",
      "execution_count": null,
      "metadata": {},
      "outputs": [],
      "source": [
        "intercept_column = np.ones((len(train_data), 1))\n",
        "X_with_intercept = np.hstack((intercept_column, train_features))\n",
        "num_classes = len(np.unique(train_targets))\n",
        "label = np.eye(num_classes)[np.array(train_targets)-1]\n",
        "\n",
        "X_train, X_test, Y_train, Y_test = train_test_split(X_with_intercept, label, test_size=0.0001, random_state=42)"
      ]
    },
    {
      "cell_type": "code",
      "execution_count": 128,
      "metadata": {},
      "outputs": [
        {
          "name": "stdout",
          "output_type": "stream",
          "text": [
            "Epoch #1\n",
            "Epoch #2\n",
            "Epoch #3\n",
            "Epoch #4\n",
            "Epoch #5\n",
            "Epoch #6\n",
            "Epoch #7\n",
            "Epoch #8\n",
            "Epoch #9\n",
            "Epoch #10\n"
          ]
        },
        {
          "ename": "",
          "evalue": "",
          "output_type": "error",
          "traceback": [
            "\u001b[1;31mThe Kernel crashed while executing code in the current cell or a previous cell. \n",
            "\u001b[1;31mPlease review the code in the cell(s) to identify a possible cause of the failure. \n",
            "\u001b[1;31mClick <a href='https://aka.ms/vscodeJupyterKernelCrash'>here</a> for more info. \n",
            "\u001b[1;31mView Jupyter <a href='command:jupyter.viewOutput'>log</a> for further details."
          ]
        }
      ],
      "source": [
        "model = LogisticRegression(dim=X_with_intercept.shape[1], classes=num_classes, lr=0.1, lambda_reg=1)\n",
        "batch_size = 512\n",
        "\n",
        "epochs = 0\n",
        "while epochs < 10:\n",
        "    for i in range(0, len(X_train), batch_size):\n",
        "        X_batch = X_train[i:i+batch_size].T\n",
        "        Y_batch = Y_train[i:i+batch_size].T\n",
        "        pred = model.forward(X_batch)\n",
        "        model.backward(output=pred, label=Y_batch)\n",
        "    epochs += 1\n",
        "    print(f\"Epoch #{epochs}\")"
      ]
    },
    {
      "cell_type": "code",
      "execution_count": 119,
      "metadata": {},
      "outputs": [
        {
          "name": "stdout",
          "output_type": "stream",
          "text": [
            "Accuracy: 57.14%\n"
          ]
        }
      ],
      "source": [
        "test_pred = np.argmax(model.forward(X_test.T), axis=0)\n",
        "accuracy = np.mean(test_pred == np.argmax(Y_test.T, axis=0)) * 100\n",
        "print(\"Accuracy: {:.2f}%\".format(accuracy))"
      ]
    },
    {
      "cell_type": "code",
      "execution_count": 120,
      "metadata": {},
      "outputs": [],
      "source": [
        "def get_hard_prediction(model, test):\n",
        "    return np.argmax(model.forward(test.T), axis=0)\n",
        "\n",
        "def get_soft_prediction(model, test):\n",
        "    return np.sum(model.forward(test.T) * np.array([[1], [2], [3], [4], [5]]), axis=0)"
      ]
    },
    {
      "cell_type": "code",
      "execution_count": 121,
      "metadata": {},
      "outputs": [],
      "source": [
        "def merge_and_save_vectors(vector1, vector2, output_file_path):\n",
        "    merged_vector = np.column_stack((vector1, vector2))\n",
        "    np.savetxt(output_file_path, merged_vector, fmt=['%d', '%.3f'], delimiter=' ')"
      ]
    },
    {
      "cell_type": "markdown",
      "metadata": {},
      "source": [
        "### Predict on Dev Data"
      ]
    },
    {
      "cell_type": "code",
      "execution_count": null,
      "metadata": {},
      "outputs": [],
      "source": [
        "dev_data = load_json_file(YELP_DEV_DIR)\n",
        "dev_features = preprocess_dataset_ctf_test(dev_data)\n",
        "dev_features = np.array(dev_features)\n",
        "intercept_column = np.ones((len(dev_features), 1))\n",
        "dev_features = np.hstack((intercept_column, dev_features))"
      ]
    },
    {
      "cell_type": "code",
      "execution_count": 126,
      "metadata": {},
      "outputs": [],
      "source": [
        "merge_and_save_vectors(get_hard_prediction(model, dev_features), get_soft_prediction(model, dev_features), \"./dev-predictions.txt\")"
      ]
    },
    {
      "cell_type": "markdown",
      "metadata": {},
      "source": [
        "### Predict on Test Data"
      ]
    },
    {
      "cell_type": "code",
      "execution_count": 57,
      "metadata": {},
      "outputs": [],
      "source": [
        "test_data = load_json_file(YELP_TEST_DIR)\n",
        "test_features = preprocess_dataset_ctf_test(test_data)\n",
        "test_features = np.array(test_features)\n",
        "intercept_column = np.ones((len(test_features), 1))\n",
        "test_features = np.hstack((intercept_column, test_features))"
      ]
    },
    {
      "cell_type": "code",
      "execution_count": 127,
      "metadata": {},
      "outputs": [],
      "source": [
        "merge_and_save_vectors(get_hard_prediction(model, test_features), get_soft_prediction(model, test_features), \"./test-predictions.txt\")"
      ]
    },
    {
      "cell_type": "code",
      "execution_count": null,
      "metadata": {},
      "outputs": [],
      "source": []
    }
  ],
  "metadata": {
    "colab": {
      "gpuType": "T4",
      "provenance": []
    },
    "kernelspec": {
      "display_name": "Python 3",
      "name": "python3"
    },
    "language_info": {
      "codemirror_mode": {
        "name": "ipython",
        "version": 3
      },
      "file_extension": ".py",
      "mimetype": "text/x-python",
      "name": "python",
      "nbconvert_exporter": "python",
      "pygments_lexer": "ipython3",
      "version": "3.8.10"
    }
  },
  "nbformat": 4,
  "nbformat_minor": 0
}
