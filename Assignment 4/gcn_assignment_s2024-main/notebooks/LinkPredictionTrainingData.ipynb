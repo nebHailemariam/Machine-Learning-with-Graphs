{
 "cells": [
  {
   "cell_type": "code",
   "execution_count": 1,
   "id": "94c97750",
   "metadata": {},
   "outputs": [],
   "source": [
    "import sys\n",
    "sys.path.append(\"..\")\n",
    "import torch\n",
    "from collections import Counter\n",
    "from src.data.graph import Graph"
   ]
  },
  {
   "cell_type": "markdown",
   "id": "adf4d319",
   "metadata": {},
   "source": [
    "### Load the graph"
   ]
  },
  {
   "cell_type": "code",
   "execution_count": 2,
   "id": "f108ff92",
   "metadata": {},
   "outputs": [],
   "source": [
    "args = {\n",
    "        \"graph\": \"karate\",  # name of the graph\n",
    "        \"basepath\": \"../data\",  # path to the directory that has the graph files\n",
    "        \"task\": \"link_pred\",  # the task\n",
    "        \"test_frac\": 0.20,  #  fraction of the edges to be used as test split\n",
    "        \"val_frac\": 0.20,  #  fraction of the edges to be used as val split\n",
    "        \"gpu\": False  # we don't need a GPU for exploring the graph\n",
    "        } "
   ]
  },
  {
   "cell_type": "code",
   "execution_count": 3,
   "id": "21559e39",
   "metadata": {},
   "outputs": [
    {
     "name": "stderr",
     "output_type": "stream",
     "text": [
      "c:\\Users\\Nebiyou Hailemariam\\Desktop\\development\\Machine-Learning-with-Graphs\\Assignment 4\\gcn_assignment_s2024-main\\notebooks\\..\\src\\data\\utils.py:92: UserWarning: torch.sparse.SparseTensor(indices, values, shape, *, device=) is deprecated.  Please use torch.sparse_coo_tensor(indices, values, shape, dtype=, device=). (Triggered internally at C:\\actions-runner\\_work\\pytorch\\pytorch\\builder\\windows\\pytorch\\torch\\csrc\\utils\\tensor_new.cpp:620.)\n",
      "  return torch.sparse.FloatTensor(indices, values, shape)\n",
      "INFO:root:Loading edges\n"
     ]
    },
    {
     "name": "stdout",
     "output_type": "stream",
     "text": [
      "Loading karate dataset...\n",
      "Found 78 edges\n"
     ]
    }
   ],
   "source": [
    "graph = Graph(**args)"
   ]
  },
  {
   "cell_type": "markdown",
   "id": "d4da2a1f",
   "metadata": {},
   "source": [
    "#### Explore Edges"
   ]
  },
  {
   "cell_type": "code",
   "execution_count": 4,
   "id": "7c554271",
   "metadata": {},
   "outputs": [
    {
     "data": {
      "text/plain": [
       "torch.Size([2, 114])"
      ]
     },
     "execution_count": 4,
     "metadata": {},
     "output_type": "execute_result"
    }
   ],
   "source": [
    "graph.train_edges_positive.shape  # (2, num_edges)"
   ]
  },
  {
   "cell_type": "code",
   "execution_count": 5,
   "id": "830547a1",
   "metadata": {},
   "outputs": [
    {
     "data": {
      "text/plain": [
       "torch.Size([228])"
      ]
     },
     "execution_count": 5,
     "metadata": {},
     "output_type": "execute_result"
    }
   ],
   "source": [
    "graph.train_edge_labels.shape # (num_edges)"
   ]
  },
  {
   "cell_type": "code",
   "execution_count": 6,
   "id": "1c117d14",
   "metadata": {},
   "outputs": [
    {
     "data": {
      "text/plain": [
       "Counter({1: 190, 0: 190})"
      ]
     },
     "execution_count": 6,
     "metadata": {},
     "output_type": "execute_result"
    }
   ],
   "source": [
    "Counter(graph.train_edge_labels.tolist() \\\n",
    "        + graph.val_edge_labels.tolist() \\\n",
    "        + graph.test_edge_labels.tolist())  #  total number of positive and negative edges"
   ]
  },
  {
   "cell_type": "markdown",
   "id": "addbd82b",
   "metadata": {},
   "source": [
    "### Cora"
   ]
  },
  {
   "cell_type": "code",
   "execution_count": 12,
   "id": "606a21d2",
   "metadata": {},
   "outputs": [],
   "source": [
    "args = {\n",
    "        \"graph\": \"cora\",  # name of the graph\n",
    "        \"basepath\": \"../data\",  # path to the directory that has the graph files\n",
    "        \"task\": \"link_pred\",  # the task\n",
    "        \"test_frac\": 0.20,  #  fraction of the edges to be used as test split\n",
    "        \"val_frac\": 0.20,  #  fraction of the edges to be used as val split\n",
    "        \"gpu\": False  # we don't need a GPU for exploring the graph\n",
    "        } "
   ]
  },
  {
   "cell_type": "code",
   "execution_count": 13,
   "id": "e8e3ee64",
   "metadata": {},
   "outputs": [
    {
     "name": "stdout",
     "output_type": "stream",
     "text": [
      "Loading cora dataset...\n"
     ]
    },
    {
     "name": "stderr",
     "output_type": "stream",
     "text": [
      "INFO:root:Loading edges\n"
     ]
    },
    {
     "name": "stdout",
     "output_type": "stream",
     "text": [
      "Found 5429 edges\n"
     ]
    }
   ],
   "source": [
    "graph = Graph(**args)"
   ]
  },
  {
   "cell_type": "code",
   "execution_count": 14,
   "id": "42f1b25e",
   "metadata": {},
   "outputs": [
    {
     "data": {
      "text/plain": [
       "torch.Size([2, 7960])"
      ]
     },
     "execution_count": 14,
     "metadata": {},
     "output_type": "execute_result"
    }
   ],
   "source": [
    "graph.train_edges_positive.shape  # (2, num_edges)"
   ]
  },
  {
   "cell_type": "code",
   "execution_count": 15,
   "id": "a8dd08d4",
   "metadata": {},
   "outputs": [
    {
     "data": {
      "text/plain": [
       "torch.Size([15920])"
      ]
     },
     "execution_count": 15,
     "metadata": {},
     "output_type": "execute_result"
    }
   ],
   "source": [
    "graph.train_edge_labels.shape # (num_edges)"
   ]
  },
  {
   "cell_type": "code",
   "execution_count": 16,
   "id": "1d7eea0e",
   "metadata": {},
   "outputs": [
    {
     "data": {
      "text/plain": [
       "Counter({1: 13264, 0: 13264})"
      ]
     },
     "execution_count": 16,
     "metadata": {},
     "output_type": "execute_result"
    }
   ],
   "source": [
    "Counter(graph.train_edge_labels.tolist() \\\n",
    "        + graph.val_edge_labels.tolist() \\\n",
    "        + graph.test_edge_labels.tolist())  #  total number of positive and negative edges"
   ]
  },
  {
   "cell_type": "markdown",
   "id": "73bc980e",
   "metadata": {},
   "source": [
    "### Citeseer"
   ]
  },
  {
   "cell_type": "code",
   "execution_count": 17,
   "id": "2ab02e3d",
   "metadata": {},
   "outputs": [],
   "source": [
    "args = {\n",
    "        \"graph\": \"citeseer\",  # name of the graph\n",
    "        \"basepath\": \"../data\",  # path to the directory that has the graph files\n",
    "        \"task\": \"link_pred\",  # the task\n",
    "        \"test_frac\": 0.20,  #  fraction of the edges to be used as test split\n",
    "        \"val_frac\": 0.20,  #  fraction of the edges to be used as val split\n",
    "        \"gpu\": False  # we don't need a GPU for exploring the graph\n",
    "        } "
   ]
  },
  {
   "cell_type": "code",
   "execution_count": 18,
   "id": "c1abae8a",
   "metadata": {},
   "outputs": [
    {
     "name": "stdout",
     "output_type": "stream",
     "text": [
      "Loading citeseer dataset...\n",
      "Found 4715 edges\n"
     ]
    },
    {
     "name": "stderr",
     "output_type": "stream",
     "text": [
      "INFO:root:Loading edges\n"
     ]
    }
   ],
   "source": [
    "graph = Graph(**args)"
   ]
  },
  {
   "cell_type": "code",
   "execution_count": 19,
   "id": "a3b5d48e",
   "metadata": {},
   "outputs": [
    {
     "data": {
      "text/plain": [
       "torch.Size([2, 7432])"
      ]
     },
     "execution_count": 19,
     "metadata": {},
     "output_type": "execute_result"
    }
   ],
   "source": [
    "graph.train_edges_positive.shape  # (2, num_edges)"
   ]
  },
  {
   "cell_type": "code",
   "execution_count": 20,
   "id": "7391fa2b",
   "metadata": {},
   "outputs": [
    {
     "data": {
      "text/plain": [
       "torch.Size([14864])"
      ]
     },
     "execution_count": 20,
     "metadata": {},
     "output_type": "execute_result"
    }
   ],
   "source": [
    "graph.train_edge_labels.shape # (num_edges)"
   ]
  },
  {
   "cell_type": "code",
   "execution_count": 21,
   "id": "3b68d314",
   "metadata": {},
   "outputs": [
    {
     "data": {
      "text/plain": [
       "Counter({1: 12384, 0: 12384})"
      ]
     },
     "execution_count": 21,
     "metadata": {},
     "output_type": "execute_result"
    }
   ],
   "source": [
    "Counter(graph.train_edge_labels.tolist() \\\n",
    "        + graph.val_edge_labels.tolist() \\\n",
    "        + graph.test_edge_labels.tolist())  #  total number of positive and negative edges"
   ]
  },
  {
   "cell_type": "code",
   "execution_count": null,
   "id": "3c695536",
   "metadata": {},
   "outputs": [],
   "source": []
  }
 ],
 "metadata": {
  "kernelspec": {
   "display_name": "venv",
   "language": "python",
   "name": "python3"
  },
  "language_info": {
   "codemirror_mode": {
    "name": "ipython",
    "version": 3
   },
   "file_extension": ".py",
   "mimetype": "text/x-python",
   "name": "python",
   "nbconvert_exporter": "python",
   "pygments_lexer": "ipython3",
   "version": "3.8.10"
  }
 },
 "nbformat": 4,
 "nbformat_minor": 5
}
