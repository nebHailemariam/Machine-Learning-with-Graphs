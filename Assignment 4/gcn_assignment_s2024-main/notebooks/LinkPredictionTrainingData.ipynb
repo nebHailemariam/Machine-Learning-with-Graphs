{
 "cells": [
  {
   "cell_type": "code",
   "execution_count": null,
   "id": "94c97750",
   "metadata": {},
   "outputs": [],
   "source": [
    "import sys\n",
    "sys.path.append(\"..\")\n",
    "import torch\n",
    "from collections import Counter\n",
    "from src.data.graph import Graph"
   ]
  },
  {
   "cell_type": "markdown",
   "id": "adf4d319",
   "metadata": {},
   "source": [
    "### Load the graph"
   ]
  },
  {
   "cell_type": "code",
   "execution_count": null,
   "id": "f108ff92",
   "metadata": {},
   "outputs": [],
   "source": [
    "args = {\n",
    "        \"graph\": \"karate\",  # name of the graph\n",
    "        \"basepath\": \"../data\",  # path to the directory that has the graph files\n",
    "        \"task\": \"link_pred\",  # the task\n",
    "        \"test_frac\": 0.20,  #  fraction of the edges to be used as test split\n",
    "        \"val_frac\": 0.20,  #  fraction of the edges to be used as val split\n",
    "        \"gpu\": False  # we don't need a GPU for exploring the graph\n",
    "        } "
   ]
  },
  {
   "cell_type": "code",
   "execution_count": null,
   "id": "21559e39",
   "metadata": {},
   "outputs": [],
   "source": [
    "graph = Graph(**args)"
   ]
  },
  {
   "cell_type": "markdown",
   "id": "d4da2a1f",
   "metadata": {},
   "source": [
    "#### Explore Edges"
   ]
  },
  {
   "cell_type": "code",
   "execution_count": null,
   "id": "7c554271",
   "metadata": {},
   "outputs": [],
   "source": [
    "graph.train_edges_positive.shape  # (2, num_edges)"
   ]
  },
  {
   "cell_type": "code",
   "execution_count": null,
   "id": "830547a1",
   "metadata": {},
   "outputs": [],
   "source": [
    "graph.train_edge_labels.shape # (num_edges)"
   ]
  },
  {
   "cell_type": "code",
   "execution_count": null,
   "id": "1c117d14",
   "metadata": {},
   "outputs": [],
   "source": [
    "Counter(graph.train_edge_labels.tolist() \\\n",
    "        + graph.val_edge_labels.tolist() \\\n",
    "        + graph.test_edge_labels.tolist())  #  total number of positive and negative edges"
   ]
  },
  {
   "cell_type": "code",
   "execution_count": null,
   "id": "e8e3ee64",
   "metadata": {},
   "outputs": [],
   "source": []
  }
 ],
 "metadata": {
  "language_info": {
   "name": "python",
   "pygments_lexer": "ipython3"
  }
 },
 "nbformat": 4,
 "nbformat_minor": 5
}
