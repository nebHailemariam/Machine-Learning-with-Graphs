{
 "cells": [
  {
   "cell_type": "code",
   "execution_count": null,
   "id": "0498a4a6",
   "metadata": {},
   "outputs": [],
   "source": [
    "import sys\n",
    "sys.path.append(\"..\")\n",
    "import torch\n",
    "from src.data.graph import Graph"
   ]
  },
  {
   "cell_type": "markdown",
   "id": "1cd3c3eb",
   "metadata": {},
   "source": [
    "#### Graphs\n",
    "- data/graph_classification/graph_mutag_with_node_num.pt\n",
    "- data/graph_classification/graph_enzymes_with_node_num.pt"
   ]
  },
  {
   "cell_type": "code",
   "execution_count": null,
   "id": "67c15c33",
   "metadata": {},
   "outputs": [],
   "source": [
    "mutag_graphs = torch.load(\"../data/graph_classification/graph_mutag_with_node_num.pt\")"
   ]
  },
  {
   "cell_type": "code",
   "execution_count": null,
   "id": "c584d9d6",
   "metadata": {},
   "outputs": [],
   "source": [
    "mutag_graphs_train = mutag_graphs[\"train\"]"
   ]
  },
  {
   "cell_type": "code",
   "execution_count": null,
   "id": "c67b6737",
   "metadata": {},
   "outputs": [],
   "source": [
    "mutag_graphs_train[0]"
   ]
  },
  {
   "cell_type": "code",
   "execution_count": null,
   "id": "f73c97f6",
   "metadata": {},
   "outputs": [],
   "source": [
    "len(mutag_graphs_train)  # number of graphs"
   ]
  },
  {
   "cell_type": "code",
   "execution_count": null,
   "id": "e40a83b4",
   "metadata": {},
   "outputs": [],
   "source": []
  },
  {
   "cell_type": "code",
   "execution_count": null,
   "id": "34d3218b",
   "metadata": {},
   "outputs": [],
   "source": [
    "def get_graphs_stats(graphs):\n",
    "    def _get_graph_statistics(graph):\n",
    "        num_edges = len(graph[\"adj\"].coalesce().indices().T.tolist())\n",
    "        num_nodes = graph[\"node_features\"].shape[0]\n",
    "        return num_nodes, num_edges\n",
    "    stats = [_get_graph_statistics(graph) for graph in graphs]\n",
    "    avg_num_nodes = round(sum([s[0] for s in stats]) / len(stats), 2)\n",
    "    avg_num_edges = round(sum([s[1] for s in stats]) / len(stats), 2)\n",
    "    node_feature_dim = graphs[0][\"node_features\"].shape[1]\n",
    "    print(f\"Num graphs = {len(graphs)}\")\n",
    "    print(f\"Avg. num nodes = {avg_num_nodes}\")\n",
    "    print(f\"Avg. num edges = {avg_num_edges}\")\n",
    "    print(f\"Avg. num edges = {node_feature_dim}\")\n",
    "    "
   ]
  },
  {
   "cell_type": "code",
   "execution_count": null,
   "id": "8acc36e0",
   "metadata": {},
   "outputs": [],
   "source": [
    "get_graphs_stats(mutag_graphs_train)"
   ]
  },
  {
   "cell_type": "code",
   "execution_count": null,
   "id": "3e3003c0",
   "metadata": {},
   "outputs": [],
   "source": []
  },
  {
   "cell_type": "code",
   "execution_count": null,
   "id": "9e62cebb",
   "metadata": {},
   "outputs": [],
   "source": []
  }
 ],
 "metadata": {
  "language_info": {
   "name": "python",
   "pygments_lexer": "ipython3"
  }
 },
 "nbformat": 4,
 "nbformat_minor": 5
}
