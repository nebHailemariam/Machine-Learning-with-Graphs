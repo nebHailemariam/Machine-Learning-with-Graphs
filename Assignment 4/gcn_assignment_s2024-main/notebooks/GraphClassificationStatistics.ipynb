{
 "cells": [
  {
   "cell_type": "code",
   "execution_count": 1,
   "id": "0498a4a6",
   "metadata": {},
   "outputs": [],
   "source": [
    "import sys\n",
    "sys.path.append(\"..\")\n",
    "import torch\n",
    "from src.data.graph import Graph"
   ]
  },
  {
   "cell_type": "markdown",
   "id": "1cd3c3eb",
   "metadata": {},
   "source": [
    "#### Graphs\n",
    "- data/graph_classification/graph_mutag_with_node_num.pt\n",
    "- data/graph_classification/graph_enzymes_with_node_num.pt"
   ]
  },
  {
   "cell_type": "code",
   "execution_count": 2,
   "id": "67c15c33",
   "metadata": {},
   "outputs": [],
   "source": [
    "mutag_graphs = torch.load(\"../data/graph_classification/graph_mutag_with_node_num.pt\")"
   ]
  },
  {
   "cell_type": "code",
   "execution_count": 3,
   "id": "c584d9d6",
   "metadata": {},
   "outputs": [],
   "source": [
    "mutag_graphs_train = mutag_graphs[\"train\"]"
   ]
  },
  {
   "cell_type": "code",
   "execution_count": 4,
   "id": "c67b6737",
   "metadata": {},
   "outputs": [
    {
     "data": {
      "text/plain": [
       "{'adj': tensor(indices=tensor([[ 0,  1,  5, 11,  0,  1,  2, 11,  1,  2,  3, 10, 11,  2,\n",
       "                          3,  4,  7, 11,  3,  4,  5, 11,  0,  4,  5,  6, 11,  5,\n",
       "                          6, 11,  3,  7,  8,  9, 11,  7,  8, 11,  7,  9, 11,  2,\n",
       "                         10, 11,  0,  1,  2,  3,  4,  5,  6,  7,  8,  9, 10, 11],\n",
       "                        [ 0,  0,  0,  0,  1,  1,  1,  1,  2,  2,  2,  2,  2,  3,\n",
       "                          3,  3,  3,  3,  4,  4,  4,  4,  5,  5,  5,  5,  5,  6,\n",
       "                          6,  6,  7,  7,  7,  7,  7,  8,  8,  8,  9,  9,  9, 10,\n",
       "                         10, 10, 11, 11, 11, 11, 11, 11, 11, 11, 11, 11, 11, 11]]),\n",
       "        values=tensor([0.2500, 0.2500, 0.2000, 0.0833, 0.2500, 0.2500, 0.2000,\n",
       "                       0.0833, 0.2500, 0.2000, 0.2000, 0.3333, 0.0833, 0.2000,\n",
       "                       0.2000, 0.2500, 0.2000, 0.0833, 0.2000, 0.2500, 0.2000,\n",
       "                       0.0833, 0.2500, 0.2500, 0.2000, 0.3333, 0.0833, 0.2000,\n",
       "                       0.3333, 0.0833, 0.2000, 0.2000, 0.3333, 0.3333, 0.0833,\n",
       "                       0.2000, 0.3333, 0.0833, 0.2000, 0.3333, 0.0833, 0.2000,\n",
       "                       0.3333, 0.0833, 0.2500, 0.2500, 0.2000, 0.2000, 0.2500,\n",
       "                       0.2000, 0.3333, 0.2000, 0.3333, 0.3333, 0.3333, 0.0833]),\n",
       "        size=(12, 12), nnz=56, layout=torch.sparse_coo),\n",
       " 'node_features': tensor([[1.0000, 0.0000, 0.0000, 0.0000, 0.0000, 0.0000, 0.0000, 0.0000],\n",
       "         [0.9231, 0.0000, 0.0000, 0.0000, 0.0000, 0.0000, 0.0000, 0.0769],\n",
       "         [0.8571, 0.0000, 0.0000, 0.0000, 0.0000, 0.0000, 0.0000, 0.1429],\n",
       "         [0.8000, 0.0000, 0.0000, 0.0000, 0.0000, 0.0000, 0.0000, 0.2000],\n",
       "         [0.7500, 0.0000, 0.0000, 0.0000, 0.0000, 0.0000, 0.0000, 0.2500],\n",
       "         [0.7059, 0.0000, 0.0000, 0.0000, 0.0000, 0.0000, 0.0000, 0.2941],\n",
       "         [0.0000, 0.6667, 0.0000, 0.0000, 0.0000, 0.0000, 0.0000, 0.3333],\n",
       "         [0.0000, 0.6316, 0.0000, 0.0000, 0.0000, 0.0000, 0.0000, 0.3684],\n",
       "         [0.0000, 0.0000, 0.6000, 0.0000, 0.0000, 0.0000, 0.0000, 0.4000],\n",
       "         [0.0000, 0.0000, 0.5714, 0.0000, 0.0000, 0.0000, 0.0000, 0.4286],\n",
       "         [0.0000, 0.5455, 0.0000, 0.0000, 0.0000, 0.0000, 0.0000, 0.4545],\n",
       "         [0.2846, 0.1423, 0.0949, 0.0000, 0.0000, 0.0000, 0.0000, 0.4783]]),\n",
       " 'graph_label': tensor([0]),\n",
       " 'idx_train': range(0, 9),\n",
       " 'idx_val': range(9, 9),\n",
       " 'idx_test': range(9, 12)}"
      ]
     },
     "execution_count": 4,
     "metadata": {},
     "output_type": "execute_result"
    }
   ],
   "source": [
    "mutag_graphs_train[0]"
   ]
  },
  {
   "cell_type": "code",
   "execution_count": 5,
   "id": "f73c97f6",
   "metadata": {},
   "outputs": [
    {
     "data": {
      "text/plain": [
       "141"
      ]
     },
     "execution_count": 5,
     "metadata": {},
     "output_type": "execute_result"
    }
   ],
   "source": [
    "len(mutag_graphs_train)  # number of graphs"
   ]
  },
  {
   "cell_type": "code",
   "execution_count": null,
   "id": "e40a83b4",
   "metadata": {},
   "outputs": [],
   "source": []
  },
  {
   "cell_type": "code",
   "execution_count": 6,
   "id": "34d3218b",
   "metadata": {},
   "outputs": [],
   "source": [
    "def get_graphs_stats(graphs):\n",
    "    def _get_graph_statistics(graph):\n",
    "        num_edges = len(graph[\"adj\"].coalesce().indices().T.tolist())\n",
    "        num_nodes = graph[\"node_features\"].shape[0]\n",
    "        return num_nodes, num_edges\n",
    "    stats = [_get_graph_statistics(graph) for graph in graphs]\n",
    "    avg_num_nodes = round(sum([s[0] for s in stats]) / len(stats), 2)\n",
    "    avg_num_edges = round(sum([s[1] for s in stats]) / len(stats), 2)\n",
    "    node_feature_dim = graphs[0][\"node_features\"].shape[1]\n",
    "    print(f\"Num graphs = {len(graphs)}\")\n",
    "    print(f\"Avg. num nodes = {avg_num_nodes}\")\n",
    "    print(f\"Avg. num edges = {avg_num_edges}\")\n",
    "    print(f\"Avg. num edges = {node_feature_dim}\")\n",
    "    "
   ]
  },
  {
   "cell_type": "code",
   "execution_count": 7,
   "id": "8acc36e0",
   "metadata": {},
   "outputs": [
    {
     "name": "stdout",
     "output_type": "stream",
     "text": [
      "Num graphs = 141\n",
      "Avg. num nodes = 18.85\n",
      "Avg. num edges = 94.04\n",
      "Avg. num edges = 8\n"
     ]
    }
   ],
   "source": [
    "get_graphs_stats(mutag_graphs_train)"
   ]
  },
  {
   "cell_type": "code",
   "execution_count": 11,
   "id": "9e62cebb",
   "metadata": {},
   "outputs": [
    {
     "name": "stdout",
     "output_type": "stream",
     "text": [
      "Num graphs = 360\n",
      "Avg. num nodes = 33.27\n",
      "Avg. num edges = 221.19\n",
      "Avg. num edges = 22\n"
     ]
    }
   ],
   "source": [
    "enzymes_graphs = torch.load(\"../data/graph_classification/graph_enzymes_with_node_num.pt\")\n",
    "enzymes_graphs_train = enzymes_graphs[\"train\"]\n",
    "get_graphs_stats(enzymes_graphs_train)"
   ]
  },
  {
   "cell_type": "code",
   "execution_count": null,
   "id": "87dbfaa7",
   "metadata": {},
   "outputs": [],
   "source": []
  }
 ],
 "metadata": {
  "kernelspec": {
   "display_name": "venv",
   "language": "python",
   "name": "python3"
  },
  "language_info": {
   "codemirror_mode": {
    "name": "ipython",
    "version": 3
   },
   "file_extension": ".py",
   "mimetype": "text/x-python",
   "name": "python",
   "nbconvert_exporter": "python",
   "pygments_lexer": "ipython3",
   "version": "3.8.10"
  }
 },
 "nbformat": 4,
 "nbformat_minor": 5
}
