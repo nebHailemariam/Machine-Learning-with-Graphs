{
 "cells": [
  {
   "cell_type": "code",
   "execution_count": 1,
   "id": "1dfa1cbf",
   "metadata": {},
   "outputs": [],
   "source": [
    "import sys"
   ]
  },
  {
   "cell_type": "code",
   "execution_count": 2,
   "id": "b8636301",
   "metadata": {},
   "outputs": [],
   "source": [
    "sys.path.append(\"..\")"
   ]
  },
  {
   "cell_type": "code",
   "execution_count": 3,
   "id": "96be7457",
   "metadata": {},
   "outputs": [],
   "source": [
    "import torch\n",
    "from src.data.graph import Graph"
   ]
  },
  {
   "cell_type": "code",
   "execution_count": 4,
   "id": "c68c0053",
   "metadata": {},
   "outputs": [
    {
     "name": "stderr",
     "output_type": "stream",
     "text": [
      "'pwd' is not recognized as an internal or external command,\n",
      "operable program or batch file.\n"
     ]
    }
   ],
   "source": [
    "!pwd"
   ]
  },
  {
   "cell_type": "markdown",
   "id": "eefaabbd",
   "metadata": {},
   "source": [
    "#### We will start exploring the graph by instantiating a Graph object. That requires defining an argument dictionary.\n"
   ]
  },
  {
   "cell_type": "code",
   "execution_count": 5,
   "id": "df96e646",
   "metadata": {},
   "outputs": [],
   "source": [
    "args = {\n",
    "        \"graph\": \"karate\",  # name of the graph\n",
    "        \"basepath\": \"../data\",  # path to the directory that has the graph files\n",
    "        \"task\": \"classify\",  # the task\n",
    "        \"test_frac\": 0.20,  #  fraction of the edges to be used as test split\n",
    "        \"val_frac\": 0.20,  #  fraction of the edges to be used as val split\n",
    "        \"gpu\": False  # we don't need a GPU for exploring the graph\n",
    "        } "
   ]
  },
  {
   "cell_type": "markdown",
   "id": "c2e62746",
   "metadata": {},
   "source": []
  },
  {
   "cell_type": "code",
   "execution_count": 6,
   "id": "2f088b83",
   "metadata": {},
   "outputs": [
    {
     "name": "stdout",
     "output_type": "stream",
     "text": [
      "Loading karate dataset...\n",
      "Found 78 edges\n"
     ]
    },
    {
     "name": "stderr",
     "output_type": "stream",
     "text": [
      "c:\\Users\\Nebiyou Hailemariam\\Desktop\\development\\Machine-Learning-with-Graphs\\Assignment 4\\gcn_assignment_s2024-main\\notebooks\\..\\src\\data\\utils.py:92: UserWarning: torch.sparse.SparseTensor(indices, values, shape, *, device=) is deprecated.  Please use torch.sparse_coo_tensor(indices, values, shape, dtype=, device=). (Triggered internally at C:\\actions-runner\\_work\\pytorch\\pytorch\\builder\\windows\\pytorch\\torch\\csrc\\utils\\tensor_new.cpp:620.)\n",
      "  return torch.sparse.FloatTensor(indices, values, shape)\n"
     ]
    }
   ],
   "source": [
    "graph = Graph(**args)"
   ]
  },
  {
   "cell_type": "markdown",
   "id": "60b3e1cf",
   "metadata": {},
   "source": [
    "### Each graph object has three important attributes\n",
    "1. Node features\n",
    "2. Node labels\n",
    "3. The adjacency matrix (sparse coo matrix)"
   ]
  },
  {
   "cell_type": "code",
   "execution_count": 7,
   "id": "0c296f9c",
   "metadata": {},
   "outputs": [
    {
     "data": {
      "text/plain": [
       "(34, 34)"
      ]
     },
     "execution_count": 7,
     "metadata": {},
     "output_type": "execute_result"
    }
   ],
   "source": [
    "# extract the number of nodes and features\n",
    "num_nodes, num_features = graph.features.shape\n",
    "num_nodes, num_features"
   ]
  },
  {
   "cell_type": "code",
   "execution_count": 8,
   "id": "9bb0c018",
   "metadata": {},
   "outputs": [
    {
     "data": {
      "text/plain": [
       "tensor([0, 0, 0, 0, 0, 0, 0, 0, 0, 0, 0, 0, 0, 0, 0, 0, 0, 0, 0, 0, 0, 0, 0, 0,\n",
       "        0, 0, 0, 0, 0, 0, 0, 0, 0, 0])"
      ]
     },
     "execution_count": 8,
     "metadata": {},
     "output_type": "execute_result"
    }
   ],
   "source": [
    "graph.labels"
   ]
  },
  {
   "cell_type": "markdown",
   "id": "80973176",
   "metadata": {},
   "source": [
    "##### Extract the ede information"
   ]
  },
  {
   "cell_type": "code",
   "execution_count": 9,
   "id": "7d0ff64c",
   "metadata": {},
   "outputs": [],
   "source": [
    "edges = graph.adj.coalesce().indices().T.tolist()"
   ]
  },
  {
   "cell_type": "code",
   "execution_count": 13,
   "id": "0f5d8341",
   "metadata": {},
   "outputs": [
    {
     "data": {
      "text/plain": [
       "[[0, 0], [0, 1], [0, 2], [0, 3]]"
      ]
     },
     "execution_count": 13,
     "metadata": {},
     "output_type": "execute_result"
    }
   ],
   "source": [
    "edges[:4]  # edges is a list of [node1, node2] elements, indicating an edge between node1 and node 2 "
   ]
  },
  {
   "cell_type": "code",
   "execution_count": 10,
   "id": "a1008da9",
   "metadata": {},
   "outputs": [
    {
     "data": {
      "text/plain": [
       "190"
      ]
     },
     "execution_count": 10,
     "metadata": {},
     "output_type": "execute_result"
    }
   ],
   "source": [
    "num_edges = len(edges);\n",
    "num_edges"
   ]
  },
  {
   "cell_type": "code",
   "execution_count": 11,
   "id": "ec30a460",
   "metadata": {},
   "outputs": [],
   "source": [
    "from collections import defaultdict\n",
    "def find_degree_per_node(edges):\n",
    "    in_degree = defaultdict(int)\n",
    "\n",
    "    for (src, tgt) in edges:\n",
    "        in_degree[tgt] += 1\n",
    "    \n",
    "    avg_in_degree = sum(in_degree.values()) / len(in_degree)\n",
    "    max_in_degree = max(in_degree.values())\n",
    "    min_in_degree = min(in_degree.values())\n",
    "    \n",
    "    \n",
    "    print(avg_in_degree, max_in_degree, min_in_degree)\n",
    "    \n",
    "        "
   ]
  },
  {
   "cell_type": "code",
   "execution_count": 12,
   "id": "f3efd0ad",
   "metadata": {},
   "outputs": [
    {
     "name": "stdout",
     "output_type": "stream",
     "text": [
      "5.588235294117647 18 2\n"
     ]
    }
   ],
   "source": [
    "find_degree_per_node(edges)"
   ]
  },
  {
   "cell_type": "markdown",
   "id": "a4ab86fc",
   "metadata": {},
   "source": [
    "## Cora"
   ]
  },
  {
   "cell_type": "code",
   "execution_count": 14,
   "id": "e55e30aa",
   "metadata": {},
   "outputs": [],
   "source": [
    "args = {\n",
    "        \"graph\": \"cora\",  # name of the graph\n",
    "        \"basepath\": \"../data\",  # path to the directory that has the graph files\n",
    "        \"task\": \"classify\",  # the task\n",
    "        \"test_frac\": 0.20,  #  fraction of the edges to be used as test split\n",
    "        \"val_frac\": 0.20,  #  fraction of the edges to be used as val split\n",
    "        \"gpu\": False  # we don't need a GPU for exploring the graph\n",
    "        } "
   ]
  },
  {
   "cell_type": "code",
   "execution_count": 15,
   "id": "b8b261fd",
   "metadata": {},
   "outputs": [
    {
     "name": "stdout",
     "output_type": "stream",
     "text": [
      "Loading cora dataset...\n",
      "Found 5429 edges\n"
     ]
    }
   ],
   "source": [
    "graph = Graph(**args)"
   ]
  },
  {
   "cell_type": "code",
   "execution_count": 16,
   "id": "2f357d09",
   "metadata": {},
   "outputs": [
    {
     "data": {
      "text/plain": [
       "(2708, 1433)"
      ]
     },
     "execution_count": 16,
     "metadata": {},
     "output_type": "execute_result"
    }
   ],
   "source": [
    "num_nodes, num_features = graph.features.shape\n",
    "num_nodes, num_features"
   ]
  },
  {
   "cell_type": "code",
   "execution_count": 20,
   "id": "3bf2d3ab",
   "metadata": {},
   "outputs": [
    {
     "data": {
      "text/plain": [
       "(tensor([2, 5, 4,  ..., 1, 0, 2]), tensor([0, 1, 2, 3, 4, 5, 6]))"
      ]
     },
     "execution_count": 20,
     "metadata": {},
     "output_type": "execute_result"
    }
   ],
   "source": [
    "graph.labels, graph.labels.unique()"
   ]
  },
  {
   "cell_type": "code",
   "execution_count": 21,
   "id": "51fafd22",
   "metadata": {},
   "outputs": [
    {
     "data": {
      "text/plain": [
       "13264"
      ]
     },
     "execution_count": 21,
     "metadata": {},
     "output_type": "execute_result"
    }
   ],
   "source": [
    "edges = graph.adj.coalesce().indices().T.tolist()\n",
    "num_edges = len(edges);\n",
    "num_edges"
   ]
  },
  {
   "cell_type": "code",
   "execution_count": 23,
   "id": "0550e54d",
   "metadata": {},
   "outputs": [
    {
     "name": "stdout",
     "output_type": "stream",
     "text": [
      "4.89807976366322 169 2\n"
     ]
    }
   ],
   "source": [
    "find_degree_per_node(edges)"
   ]
  },
  {
   "cell_type": "markdown",
   "id": "34fefbf1",
   "metadata": {},
   "source": [
    "### Citeseer"
   ]
  },
  {
   "cell_type": "code",
   "execution_count": 24,
   "id": "bc021316",
   "metadata": {},
   "outputs": [],
   "source": [
    "args = {\n",
    "        \"graph\": \"Citeseer\",  # name of the graph\n",
    "        \"basepath\": \"../data\",  # path to the directory that has the graph files\n",
    "        \"task\": \"classify\",  # the task\n",
    "        \"test_frac\": 0.20,  #  fraction of the edges to be used as test split\n",
    "        \"val_frac\": 0.20,  #  fraction of the edges to be used as val split\n",
    "        \"gpu\": False  # we don't need a GPU for exploring the graph\n",
    "        } "
   ]
  },
  {
   "cell_type": "code",
   "execution_count": 25,
   "id": "32ef0a76",
   "metadata": {},
   "outputs": [
    {
     "name": "stdout",
     "output_type": "stream",
     "text": [
      "Loading Citeseer dataset...\n",
      "Found 4715 edges\n"
     ]
    }
   ],
   "source": [
    "graph = Graph(**args)"
   ]
  },
  {
   "cell_type": "code",
   "execution_count": 26,
   "id": "9d344f12",
   "metadata": {},
   "outputs": [
    {
     "data": {
      "text/plain": [
       "(3312, 3703)"
      ]
     },
     "execution_count": 26,
     "metadata": {},
     "output_type": "execute_result"
    }
   ],
   "source": [
    "# extract the number of nodes and features\n",
    "num_nodes, num_features = graph.features.shape\n",
    "num_nodes, num_features"
   ]
  },
  {
   "cell_type": "code",
   "execution_count": 27,
   "id": "4b66c6e1",
   "metadata": {},
   "outputs": [
    {
     "data": {
      "text/plain": [
       "(tensor([1, 4, 1,  ..., 4, 2, 5]), tensor([0, 1, 2, 3, 4, 5]))"
      ]
     },
     "execution_count": 27,
     "metadata": {},
     "output_type": "execute_result"
    }
   ],
   "source": [
    "graph.labels, graph.labels.unique()"
   ]
  },
  {
   "cell_type": "code",
   "execution_count": 34,
   "id": "f3a9a704",
   "metadata": {},
   "outputs": [
    {
     "data": {
      "text/plain": [
       "tensor(indices=tensor([[  0,  99, 111, 381, 415, 514, 585, 690, 691, 783, 784,\n",
       "                        954]]),\n",
       "       values=tensor([0.1538, 0.0769, 0.0769, 0.0769, 0.0769, 0.0769, 0.0769,\n",
       "                      0.0769, 0.0769, 0.0769, 0.0769, 0.0769]),\n",
       "       size=(3312,), nnz=12, layout=torch.sparse_coo)"
      ]
     },
     "execution_count": 34,
     "metadata": {},
     "output_type": "execute_result"
    }
   ],
   "source": [
    "edges = graph.adj\n",
    "edges[0]"
   ]
  },
  {
   "cell_type": "code",
   "execution_count": 28,
   "id": "4111eb6d",
   "metadata": {},
   "outputs": [
    {
     "data": {
      "text/plain": [
       "12384"
      ]
     },
     "execution_count": 28,
     "metadata": {},
     "output_type": "execute_result"
    }
   ],
   "source": [
    "edges = graph.adj.coalesce().indices().T.tolist()\n",
    "num_edges = len(edges);\n",
    "num_edges"
   ]
  },
  {
   "cell_type": "code",
   "execution_count": 29,
   "id": "c8d97284",
   "metadata": {},
   "outputs": [
    {
     "name": "stdout",
     "output_type": "stream",
     "text": [
      "3.739130434782609 100 1\n"
     ]
    }
   ],
   "source": [
    "find_degree_per_node(edges)"
   ]
  },
  {
   "cell_type": "code",
   "execution_count": null,
   "id": "14f6f128",
   "metadata": {},
   "outputs": [],
   "source": []
  }
 ],
 "metadata": {
  "kernelspec": {
   "display_name": "venv",
   "language": "python",
   "name": "python3"
  },
  "language_info": {
   "codemirror_mode": {
    "name": "ipython",
    "version": 3
   },
   "file_extension": ".py",
   "mimetype": "text/x-python",
   "name": "python",
   "nbconvert_exporter": "python",
   "pygments_lexer": "ipython3",
   "version": "3.8.10"
  }
 },
 "nbformat": 4,
 "nbformat_minor": 5
}
