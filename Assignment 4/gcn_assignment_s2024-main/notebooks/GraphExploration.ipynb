{
 "cells": [
  {
   "cell_type": "code",
   "execution_count": null,
   "id": "1dfa1cbf",
   "metadata": {},
   "outputs": [],
   "source": [
    "import sys"
   ]
  },
  {
   "cell_type": "code",
   "execution_count": null,
   "id": "b8636301",
   "metadata": {},
   "outputs": [],
   "source": [
    "sys.path.append(\"..\")"
   ]
  },
  {
   "cell_type": "code",
   "execution_count": null,
   "id": "96be7457",
   "metadata": {},
   "outputs": [],
   "source": [
    "import torch\n",
    "from src.data.graph import Graph"
   ]
  },
  {
   "cell_type": "code",
   "execution_count": null,
   "id": "c68c0053",
   "metadata": {},
   "outputs": [],
   "source": [
    "!pwd"
   ]
  },
  {
   "cell_type": "markdown",
   "id": "eefaabbd",
   "metadata": {},
   "source": [
    "#### We will start exploring the graph by instantiating a Graph object. That requires defining an argument dictionary.\n"
   ]
  },
  {
   "cell_type": "code",
   "execution_count": null,
   "id": "df96e646",
   "metadata": {},
   "outputs": [],
   "source": [
    "args = {\n",
    "        \"graph\": \"karate\",  # name of the graph\n",
    "        \"basepath\": \"../data\",  # path to the directory that has the graph files\n",
    "        \"task\": \"classify\",  # the task\n",
    "        \"test_frac\": 0.20,  #  fraction of the edges to be used as test split\n",
    "        \"val_frac\": 0.20,  #  fraction of the edges to be used as val split\n",
    "        \"gpu\": False  # we don't need a GPU for exploring the graph\n",
    "        } "
   ]
  },
  {
   "cell_type": "markdown",
   "id": "c2e62746",
   "metadata": {},
   "source": []
  },
  {
   "cell_type": "code",
   "execution_count": null,
   "id": "2f088b83",
   "metadata": {},
   "outputs": [],
   "source": [
    "graph = Graph(**args)"
   ]
  },
  {
   "cell_type": "markdown",
   "id": "60b3e1cf",
   "metadata": {},
   "source": [
    "### Each graph object has three important attributes\n",
    "1. Node features\n",
    "2. Node labels\n",
    "3. The adjacency matrix (sparse coo matrix)"
   ]
  },
  {
   "cell_type": "code",
   "execution_count": null,
   "id": "0c296f9c",
   "metadata": {},
   "outputs": [],
   "source": [
    "# extract the number of nodes and features\n",
    "num_nodes, num_features = graph.features.shape\n",
    "num_nodes, num_features"
   ]
  },
  {
   "cell_type": "code",
   "execution_count": null,
   "id": "9bb0c018",
   "metadata": {},
   "outputs": [],
   "source": [
    "graph.labels"
   ]
  },
  {
   "cell_type": "markdown",
   "id": "80973176",
   "metadata": {},
   "source": [
    "##### Extract the ede information"
   ]
  },
  {
   "cell_type": "code",
   "execution_count": null,
   "id": "7d0ff64c",
   "metadata": {},
   "outputs": [],
   "source": [
    "edges = graph.adj.coalesce().indices().T.tolist()"
   ]
  },
  {
   "cell_type": "code",
   "execution_count": null,
   "id": "0f5d8341",
   "metadata": {},
   "outputs": [],
   "source": [
    "edges[:4]  # edges is a list of [node1, node2] elements, indicating an edge between node1 and node 2 "
   ]
  },
  {
   "cell_type": "code",
   "execution_count": null,
   "id": "a1008da9",
   "metadata": {},
   "outputs": [],
   "source": [
    "num_edges = len(edges);\n",
    "num_edges"
   ]
  },
  {
   "cell_type": "code",
   "execution_count": null,
   "id": "ec30a460",
   "metadata": {},
   "outputs": [],
   "source": [
    "from collections import defaultdict\n",
    "def find_degree_per_node(edges):\n",
    "    in_degree = defaultdict(int)\n",
    "\n",
    "    for (src, tgt) in edges:\n",
    "        in_degree[tgt] += 1\n",
    "    \n",
    "    avg_in_degree = sum(in_degree.values()) / len(in_degree)\n",
    "    max_in_degree = max(in_degree.values())\n",
    "    min_in_degree = min(in_degree.values())\n",
    "    \n",
    "    \n",
    "    print(avg_in_degree, max_in_degree, min_in_degree)\n",
    "    \n",
    "        "
   ]
  },
  {
   "cell_type": "code",
   "execution_count": null,
   "id": "f3efd0ad",
   "metadata": {},
   "outputs": [],
   "source": [
    "find_degree_per_node(edges)"
   ]
  },
  {
   "cell_type": "code",
   "execution_count": null,
   "id": "e55e30aa",
   "metadata": {},
   "outputs": [],
   "source": []
  }
 ],
 "metadata": {
  "language_info": {
   "name": "python",
   "pygments_lexer": "ipython3"
  }
 },
 "nbformat": 4,
 "nbformat_minor": 5
}
